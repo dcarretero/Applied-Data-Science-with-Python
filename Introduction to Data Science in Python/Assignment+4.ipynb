{
 "cells": [
  {
   "cell_type": "markdown",
   "metadata": {},
   "source": [
    "---\n",
    "\n",
    "_You are currently looking at **version 1.1** of this notebook. To download notebooks and datafiles, as well as get help on Jupyter notebooks in the Coursera platform, visit the [Jupyter Notebook FAQ](https://www.coursera.org/learn/python-data-analysis/resources/0dhYG) course resource._\n",
    "\n",
    "---"
   ]
  },
  {
   "cell_type": "code",
   "execution_count": 15,
   "metadata": {
    "collapsed": true
   },
   "outputs": [],
   "source": [
    "import pandas as pd\n",
    "import numpy as np\n",
    "import re\n",
    "from scipy.stats import ttest_ind"
   ]
  },
  {
   "cell_type": "markdown",
   "metadata": {},
   "source": [
    "# Assignment 4 - Hypothesis Testing\n",
    "This assignment requires more individual learning than previous assignments - you are encouraged to check out the [pandas documentation](http://pandas.pydata.org/pandas-docs/stable/) to find functions or methods you might not have used yet, or ask questions on [Stack Overflow](http://stackoverflow.com/) and tag them as pandas and python related. And of course, the discussion forums are open for interaction with your peers and the course staff.\n",
    "\n",
    "Definitions:\n",
    "* A _quarter_ is a specific three month period, Q1 is January through March, Q2 is April through June, Q3 is July through September, Q4 is October through December.\n",
    "* A _recession_ is defined as starting with two consecutive quarters of GDP decline, and ending with two consecutive quarters of GDP growth.\n",
    "* A _recession bottom_ is the quarter within a recession which had the lowest GDP.\n",
    "* A _university town_ is a city which has a high percentage of university students compared to the total population of the city.\n",
    "\n",
    "**Hypothesis**: University towns have their mean housing prices less effected by recessions. Run a t-test to compare the ratio of the mean price of houses in university towns the quarter before the recession starts compared to the recession bottom. (`price_ratio=quarter_before_recession/recession_bottom`)\n",
    "\n",
    "The following data files are available for this assignment:\n",
    "* From the [Zillow research data site](http://www.zillow.com/research/data/) there is housing data for the United States. In particular the datafile for [all homes at a city level](http://files.zillowstatic.com/research/public/City/City_Zhvi_AllHomes.csv), ```City_Zhvi_AllHomes.csv```, has median home sale prices at a fine grained level.\n",
    "* From the Wikipedia page on college towns is a list of [university towns in the United States](https://en.wikipedia.org/wiki/List_of_college_towns#College_towns_in_the_United_States) which has been copy and pasted into the file ```university_towns.txt```.\n",
    "* From Bureau of Economic Analysis, US Department of Commerce, the [GDP over time](http://www.bea.gov/national/index.htm#gdp) of the United States in current dollars (use the chained value in 2009 dollars), in quarterly intervals, in the file ```gdplev.xls```. For this assignment, only look at GDP data from the first quarter of 2000 onward.\n",
    "\n",
    "Each function in this assignment below is worth 10%, with the exception of ```run_ttest()```, which is worth 50%."
   ]
  },
  {
   "cell_type": "code",
   "execution_count": 16,
   "metadata": {
    "collapsed": true
   },
   "outputs": [],
   "source": [
    "# Use this dictionary to map state names to two letter acronyms\n",
    "states = {'OH': 'Ohio', 'KY': 'Kentucky', 'AS': 'American Samoa', 'NV': 'Nevada', 'WY': 'Wyoming', 'NA': 'National', 'AL': 'Alabama', 'MD': 'Maryland', 'AK': 'Alaska', 'UT': 'Utah', 'OR': 'Oregon', 'MT': 'Montana', 'IL': 'Illinois', 'TN': 'Tennessee', 'DC': 'District of Columbia', 'VT': 'Vermont', 'ID': 'Idaho', 'AR': 'Arkansas', 'ME': 'Maine', 'WA': 'Washington', 'HI': 'Hawaii', 'WI': 'Wisconsin', 'MI': 'Michigan', 'IN': 'Indiana', 'NJ': 'New Jersey', 'AZ': 'Arizona', 'GU': 'Guam', 'MS': 'Mississippi', 'PR': 'Puerto Rico', 'NC': 'North Carolina', 'TX': 'Texas', 'SD': 'South Dakota', 'MP': 'Northern Mariana Islands', 'IA': 'Iowa', 'MO': 'Missouri', 'CT': 'Connecticut', 'WV': 'West Virginia', 'SC': 'South Carolina', 'LA': 'Louisiana', 'KS': 'Kansas', 'NY': 'New York', 'NE': 'Nebraska', 'OK': 'Oklahoma', 'FL': 'Florida', 'CA': 'California', 'CO': 'Colorado', 'PA': 'Pennsylvania', 'DE': 'Delaware', 'NM': 'New Mexico', 'RI': 'Rhode Island', 'MN': 'Minnesota', 'VI': 'Virgin Islands', 'NH': 'New Hampshire', 'MA': 'Massachusetts', 'GA': 'Georgia', 'ND': 'North Dakota', 'VA': 'Virginia'}"
   ]
  },
  {
   "cell_type": "code",
   "execution_count": 17,
   "metadata": {
    "collapsed": true,
    "umich_part_id": "021",
    "umich_partlist_id": "004"
   },
   "outputs": [],
   "source": [
    "def get_list_of_university_towns():\n",
    "    '''Returns a DataFrame of towns and the states they are in from the \n",
    "    university_towns.txt list. The format of the DataFrame should be:\n",
    "    DataFrame( [ [\"Michigan\", \"Ann Arbor\"], [\"Michigan\", \"Yipsilanti\"] ], \n",
    "    columns=[\"State\", \"RegionName\"]  )\n",
    "    \n",
    "    The following cleaning needs to be done:\n",
    "\n",
    "    1. For \"State\", removing characters from \"[\" to the end.\n",
    "    2. For \"RegionName\", when applicable, removing every character from \" (\" to the end.\n",
    "    3. Depending on how you read the data, you may need to remove newline character '\\n'. '''\n",
    "    \n",
    "\n",
    "   \n",
    "    df = pd.DataFrame(columns=('State','RegionName'))\n",
    "\n",
    "    filepath = 'university_towns.txt'  \n",
    "    with open(filepath) as fp:  \n",
    "        line = fp.readline()\n",
    "        line=line.strip()\n",
    "        cnt = 1\n",
    "        while line:\n",
    "           z=re.search(r'edit',line,re.M|re.I)       \n",
    "           if z:\n",
    "                line_state=re.sub('\\[edit\\]','',line)        \n",
    "                current_state=line_state\n",
    "           else:                                             \n",
    "                line=re.sub(r' \\(.*','',line) # replace text after \"(\" included with \"\"\n",
    "                df = df.append({'State': current_state,'RegionName':line}, ignore_index=True)    \n",
    "           line = fp.readline()\n",
    "           line= line.strip() \n",
    "           cnt += 1    \n",
    "    return df"
   ]
  },
  {
   "cell_type": "code",
   "execution_count": 18,
   "metadata": {
    "collapsed": true
   },
   "outputs": [],
   "source": [
    "def get_recession_values():\n",
    "    \n",
    "    filepath = 'gdplev.xls'      \n",
    "    gdp=pd.read_excel(filepath,header=None,skiprows=220,nrows=64)\n",
    "    gdp=gdp.iloc[:,4:6]\n",
    "    gdp.rename(columns = {4:'quarter',5:'GDP'}, inplace = True)\n",
    "\n",
    "    \n",
    "    size_df=len(gdp)\n",
    "    recession=False\n",
    "    \n",
    "    for index,row in gdp.iterrows():\n",
    "        if((size_df>=(index+1)) & (index>1)):\n",
    "            \n",
    "            first_quarter_value=gdp.iloc[index-2,1]\n",
    "            second_quarter_value=gdp.iloc[index-1,1]\n",
    "            third_quarter_value=gdp.iloc[index,1]\n",
    "            \n",
    "            first_quarter_name=gdp.iloc[index-2,0]\n",
    "            second_quarter_name=gdp.iloc[index-1,0]\n",
    "            third_quarter_name=gdp.iloc[index,0]\n",
    "            \n",
    "            if((not recession)):\n",
    "                if (((second_quarter_value-first_quarter_value)<0)& \n",
    "                    ((third_quarter_value-second_quarter_value)<0)):\n",
    "                    recession =True \n",
    "                    \n",
    "                    recession_start_value=first_quarter_value\n",
    "                    recession_start=first_quarter_name\n",
    "                    recession_bottom=third_quarter_name\n",
    "                    recession_bottom_value=third_quarter_value\n",
    "                    \n",
    "            else:        \n",
    "                if (recession_bottom_value>first_quarter_value):\n",
    "                    \n",
    "                    recession_bottom_value=first_quarter_value\n",
    "                    recession_bottom=first_quarter_name\n",
    "                    \n",
    "            \n",
    "                if(((second_quarter_value-first_quarter_value)>0)& \n",
    "                ((third_quarter_value-second_quarter_value)>0)\n",
    "                ):\n",
    "                    recession =False                    \n",
    "                    recession_end_value=third_quarter_value\n",
    "                    recession_end=third_quarter_name\n",
    "                    \n",
    "    \n",
    "    return (recession_start,recession_end,recession_bottom)\n",
    "\n"
   ]
  },
  {
   "cell_type": "code",
   "execution_count": 19,
   "metadata": {
    "collapsed": true,
    "umich_part_id": "022",
    "umich_partlist_id": "004"
   },
   "outputs": [],
   "source": [
    "def get_recession_start():\n",
    "    '''Returns the year and quarter of the recession start time as a \n",
    "    string value in a format such as 2005q3'''\n",
    "    recession_start,recession_end,recession_bottom=get_recession_values()\n",
    "    return recession_start"
   ]
  },
  {
   "cell_type": "code",
   "execution_count": 20,
   "metadata": {
    "collapsed": true,
    "umich_part_id": "023",
    "umich_partlist_id": "004"
   },
   "outputs": [],
   "source": [
    "def get_recession_end():\n",
    "    '''Returns the year and quarter of the recession end time as a \n",
    "    string value in a format such as 2005q3'''\n",
    "\n",
    "    recession_start,recession_end,recession_bottom=get_recession_values()            \n",
    "    return recession_end"
   ]
  },
  {
   "cell_type": "code",
   "execution_count": 21,
   "metadata": {
    "collapsed": true,
    "umich_part_id": "024",
    "umich_partlist_id": "004"
   },
   "outputs": [],
   "source": [
    "def get_recession_bottom():\n",
    "    '''Returns the year and quarter of the recession bottom time as a \n",
    "    string value in a format such as 2005q3'''\n",
    "    \n",
    "    recession_start,recession_end,recession_bottom=get_recession_values()\n",
    "    return recession_bottom"
   ]
  },
  {
   "cell_type": "code",
   "execution_count": 30,
   "metadata": {
    "collapsed": true,
    "umich_part_id": "025",
    "umich_partlist_id": "004"
   },
   "outputs": [],
   "source": [
    "def convert_housing_data_to_quarters():\n",
    "    import math\n",
    "    import pandas as pd\n",
    "    import numpy as np\n",
    "    filepath = 'City_Zhvi_AllHomes.csv'  \n",
    "    City_Zhvi_AllHomes=pd.read_csv(filepath,header=0,nrows=10731)\n",
    "    columns=City_Zhvi_AllHomes.columns\n",
    "    columns_useful=[]\n",
    "    columns_output=[]\n",
    "\n",
    "    for i in range(len(columns)):\n",
    "        if(i==1):\n",
    "            columns_useful.append(columns[i])\n",
    "        if(i==2):\n",
    "            columns_useful.append(columns[i])\n",
    "        if(i>50):\n",
    "            columns_useful.append(columns[i])\n",
    "            \n",
    "    City_Zhvi_AllHomes=City_Zhvi_AllHomes[columns_useful]\n",
    "    for k in range(len(columns_useful)):\n",
    "        if(k>1):\n",
    "            year=(columns_useful[k])[:4]\n",
    "            month=(columns_useful[k])[5:]\n",
    "            quarter=int(math.ceil((int(month)/3)))\n",
    "            column_name=year+\"q\"+str(quarter)            \n",
    "            if not {column_name}.issubset(columns_output):\n",
    "                columns_output.append(column_name)\n",
    "        else:\n",
    "            columns_output.append(columns_useful[k])\n",
    "    for k in range(len(columns_useful)):\n",
    "        if(k>1):        \n",
    "            if(((k-1)%3)==0): \n",
    "                print(str(k))\n",
    "                year=(columns_useful[k])[:4]\n",
    "                month=(columns_useful[k])[5:]\n",
    "                quarter=int(math.ceil((int(month)/3)))\n",
    "                column_name=year+\"q\"+str(quarter)            \n",
    "                City_Zhvi_AllHomes[column_name]=City_Zhvi_AllHomes.apply(lambda x: ((x[columns_useful[k]]+x[columns_useful[k-1]]+x[columns_useful[k-2]])/(int(not np.isnan(x[columns_useful[k]])) + int(not np.isnan(x[columns_useful[k-1]])) +int(not np.isnan(x[columns_useful[k-2]])))) if((int(not np.isnan(x[columns_useful[k]])) + int(not np.isnan(x[columns_useful[k-1]])) +int(not np.isnan(x[columns_useful[k-2]])))>0) else np.nan,axis=1)\n",
    "    #Last quarter we do in a different way because it has only two months\n",
    "    City_Zhvi_AllHomes['2016q3']=City_Zhvi_AllHomes.apply(lambda x: ((x['2016-07']+x['2016-08'])/(int(not np.isnan(x['2016-07'])) + int(not np.isnan(x['2016-08'])) )) if((int(not np.isnan(x['2016-07'])) + int(not np.isnan(x['2016-08'])))>0) else np.nan,axis=1)\n",
    "    df_output=City_Zhvi_AllHomes[columns_output] \n",
    "    df_output['State'] = df_output['State'].replace(states)\n",
    "    df_output.set_index([\"State\",\"RegionName\"],inplace=True)\n",
    "    df_output.sort_index(inplace=True)\n",
    "    \n",
    "    return df_output"
   ]
  },
  {
   "cell_type": "code",
   "execution_count": 37,
   "metadata": {
    "collapsed": true,
    "umich_part_id": "026",
    "umich_partlist_id": "004"
   },
   "outputs": [],
   "source": [
    "def run_ttest():\n",
    "    '''First creates new data showing the decline or growth of housing prices\n",
    "    between the recession start and the recession bottom. Then runs a ttest\n",
    "    comparing the university town values to the non-university towns values, \n",
    "    return whether the alternative hypothesis (that the two groups are the same)\n",
    "    is true or not as well as the p-value of the confidence. \n",
    "    \n",
    "    Return the tuple (different, p, better) where different=True if the t-test is\n",
    "    True at a p<0.01 (we reject the null hypothesis), or different=False if \n",
    "    otherwise (we cannot reject the null hypothesis). The variable p should\n",
    "    be equal to the exact p value returned from scipy.stats.ttest_ind(). The\n",
    "    value for better should be either \"university town\" or \"non-university town\"\n",
    "    depending on which has a lower mean price ratio (which is equivilent to a\n",
    "    reduced market loss).'''\n",
    "    \n",
    "    def get_quarter_before(year_quarter):\n",
    "        year=year_quarter[:4]\n",
    "        quarter=year_quarter[-1]\n",
    "        if(quarter==1):\n",
    "            year_quarter_before=str(year)+\"q4\"\n",
    "        else:\n",
    "            quarter_before=int(quarter)-1\n",
    "            year_quarter_before=str(year)+\"q\"+str(quarter_before)\n",
    "        return year_quarter_before\n",
    "\n",
    "\n",
    "\n",
    "    df_housing_data = convert_housing_data_to_quarters()\n",
    "    start_quarter=get_recession_start()\n",
    "    bottom_quarter=get_recession_bottom()\n",
    "    start_quarter_before=get_quarter_before(start_quarter)\n",
    "    df_housing_data['ratio']=df_housing_data[bottom_quarter]-df_housing_data[start_quarter_before]\n",
    "\n",
    "    df_list_university_towns=get_list_of_university_towns() \n",
    "    df_list_university_towns['university_town']=True\n",
    "    df_housing_data=df_housing_data.reset_index()\n",
    "    df_housing_data = pd.merge(df_housing_data,df_list_university_towns,how='outer',on=['State','RegionName'])\n",
    "    df_housing_data['university_town'] = df_housing_data['university_town'].replace({np.NaN: False})\n",
    "    df_univ_town_price_ratio = df_housing_data[df_housing_data['university_town'] == True]['ratio']\n",
    "    df_non_univ_town_price_ratio = df_housing_data[df_housing_data['university_town'] == False]['ratio']\n",
    "\n",
    "    st, p = ttest_ind(df_univ_town_price_ratio.dropna(), df_non_univ_town_price_ratio.dropna())\n",
    "\n",
    "\n",
    "    # get different and better values\n",
    "    different = False\n",
    "    if p <0.01:\n",
    "        different = True\n",
    "\n",
    "    # determine which type of town is better\n",
    "    better = \"\"\n",
    "    if df_univ_town_price_ratio.mean() > df_non_univ_town_price_ratio.mean():\n",
    "        better = \"university town\"\n",
    "    else:\n",
    "        better = \"non-university town\"\n",
    "\n",
    "    return different, p, better"
   ]
  },
  {
   "cell_type": "code",
   "execution_count": null,
   "metadata": {
    "collapsed": true
   },
   "outputs": [],
   "source": []
  }
 ],
 "metadata": {
  "coursera": {
   "course_slug": "python-data-analysis",
   "graded_item_id": "Il9Fx",
   "launcher_item_id": "TeDW0",
   "part_id": "WGlun"
  },
  "kernelspec": {
   "display_name": "Python 3",
   "language": "python",
   "name": "python3"
  },
  "language_info": {
   "codemirror_mode": {
    "name": "ipython",
    "version": 3
   },
   "file_extension": ".py",
   "mimetype": "text/x-python",
   "name": "python",
   "nbconvert_exporter": "python",
   "pygments_lexer": "ipython3",
   "version": "3.6.2"
  },
  "umich": {
   "id": "Assignment 4",
   "version": "1.1"
  }
 },
 "nbformat": 4,
 "nbformat_minor": 1
}
